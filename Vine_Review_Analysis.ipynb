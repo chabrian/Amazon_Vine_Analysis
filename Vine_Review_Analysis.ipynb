{
  "nbformat": 4,
  "nbformat_minor": 0,
  "metadata": {
    "colab": {
      "name": "Vine_Review_Analysis.ipynb",
      "provenance": []
    },
    "kernelspec": {
      "name": "python3",
      "display_name": "Python 3"
    },
    "nteract": {
      "version": "0.12.3"
    },
    "language_info": {
      "name": "python"
    }
  },
  "cells": [
    {
      "cell_type": "code",
      "metadata": {
        "id": "V58rxea0HqSa",
        "colab": {
          "base_uri": "https://localhost:8080/"
        },
        "outputId": "d17384ab-3ae9-4cd8-dc7d-e7b93a5fa21f"
      },
      "source": [
        "import os\n",
        "# Find the latest version of spark 3.0 from http://www.apache.org/dist/spark/ and enter as the spark version\n",
        "# For example:\n",
        "# spark_version = 'spark-3.2.1'\n",
        "spark_version = 'spark-3.2.1'\n",
        "os.environ['SPARK_VERSION']=spark_version\n",
        "\n",
        "# Install Spark and Java\n",
        "!apt-get update\n",
        "!apt-get install openjdk-11-jdk-headless -qq > /dev/null\n",
        "!wget -q http://www.apache.org/dist/spark/$SPARK_VERSION/$SPARK_VERSION-bin-hadoop2.7.tgz\n",
        "!tar xf $SPARK_VERSION-bin-hadoop2.7.tgz\n",
        "!pip install -q findspark\n",
        "\n",
        "# Set Environment Variables\n",
        "import os\n",
        "os.environ[\"JAVA_HOME\"] = \"/usr/lib/jvm/java-11-openjdk-amd64\"\n",
        "os.environ[\"SPARK_HOME\"] = f\"/content/{spark_version}-bin-hadoop2.7\"\n",
        "\n",
        "# Start a SparkSession\n",
        "import findspark\n",
        "findspark.init()"
      ],
      "execution_count": 1,
      "outputs": [
        {
          "output_type": "stream",
          "name": "stdout",
          "text": [
            "\r0% [Working]\r            \rGet:1 http://ppa.launchpad.net/c2d4u.team/c2d4u4.0+/ubuntu bionic InRelease [15.9 kB]\n",
            "\r0% [Connecting to archive.ubuntu.com (91.189.91.38)] [Connecting to security.ub\r0% [Connecting to archive.ubuntu.com (91.189.91.38)] [Waiting for headers] [Con\r                                                                               \rGet:2 http://security.ubuntu.com/ubuntu bionic-security InRelease [88.7 kB]\n",
            "\r0% [Connecting to archive.ubuntu.com (91.189.91.38)] [2 InRelease 17.1 kB/88.7 \r0% [1 InRelease gpgv 15.9 kB] [Connecting to archive.ubuntu.com (91.189.91.38)]\r                                                                               \rHit:3 http://ppa.launchpad.net/cran/libgit2/ubuntu bionic InRelease\n",
            "\r0% [1 InRelease gpgv 15.9 kB] [Connecting to archive.ubuntu.com (91.189.91.38)]\r0% [1 InRelease gpgv 15.9 kB] [Connecting to archive.ubuntu.com (91.189.91.38)]\r                                                                               \rGet:4 http://ppa.launchpad.net/deadsnakes/ppa/ubuntu bionic InRelease [15.9 kB]\n",
            "\r0% [1 InRelease gpgv 15.9 kB] [Connecting to archive.ubuntu.com (91.189.91.38)]\r0% [1 InRelease gpgv 15.9 kB] [Connecting to archive.ubuntu.com (91.189.91.38)]\r                                                                               \rGet:5 http://ppa.launchpad.net/graphics-drivers/ppa/ubuntu bionic InRelease [21.3 kB]\n",
            "\r0% [1 InRelease gpgv 15.9 kB] [Waiting for headers] [Connecting to cloud.r-proj\r0% [1 InRelease gpgv 15.9 kB] [Waiting for headers] [Connected to cloud.r-proje\r                                                                               \rHit:6 http://archive.ubuntu.com/ubuntu bionic InRelease\n",
            "\r0% [1 InRelease gpgv 15.9 kB] [Waiting for headers] [Waiting for headers] [Wait\r                                                                               \rGet:7 https://cloud.r-project.org/bin/linux/ubuntu bionic-cran40/ InRelease [3,626 B]\n",
            "Ign:8 https://developer.download.nvidia.com/compute/cuda/repos/ubuntu1804/x86_64  InRelease\n",
            "Get:9 http://archive.ubuntu.com/ubuntu bionic-updates InRelease [88.7 kB]\n",
            "Get:10 http://ppa.launchpad.net/c2d4u.team/c2d4u4.0+/ubuntu bionic/main Sources [1,831 kB]\n",
            "Ign:11 https://developer.download.nvidia.com/compute/machine-learning/repos/ubuntu1804/x86_64  InRelease\n",
            "Get:12 https://developer.download.nvidia.com/compute/cuda/repos/ubuntu1804/x86_64  Release [696 B]\n",
            "Hit:13 https://developer.download.nvidia.com/compute/machine-learning/repos/ubuntu1804/x86_64  Release\n",
            "Get:14 https://developer.download.nvidia.com/compute/cuda/repos/ubuntu1804/x86_64  Release.gpg [836 B]\n",
            "Get:15 http://ppa.launchpad.net/c2d4u.team/c2d4u4.0+/ubuntu bionic/main amd64 Packages [938 kB]\n",
            "Get:16 http://archive.ubuntu.com/ubuntu bionic-backports InRelease [74.6 kB]\n",
            "Get:17 http://security.ubuntu.com/ubuntu bionic-security/main amd64 Packages [2,694 kB]\n",
            "Get:18 http://security.ubuntu.com/ubuntu bionic-security/universe amd64 Packages [1,490 kB]\n",
            "Get:19 http://security.ubuntu.com/ubuntu bionic-security/restricted amd64 Packages [884 kB]\n",
            "Get:20 http://ppa.launchpad.net/deadsnakes/ppa/ubuntu bionic/main amd64 Packages [45.3 kB]\n",
            "Get:21 http://ppa.launchpad.net/graphics-drivers/ppa/ubuntu bionic/main amd64 Packages [44.3 kB]\n",
            "Get:22 https://cloud.r-project.org/bin/linux/ubuntu bionic-cran40/ Packages [82.3 kB]\n",
            "Get:24 https://developer.download.nvidia.com/compute/cuda/repos/ubuntu1804/x86_64  Packages [952 kB]\n",
            "Get:25 http://archive.ubuntu.com/ubuntu bionic-updates/main amd64 Packages [3,133 kB]\n",
            "Get:26 http://archive.ubuntu.com/ubuntu bionic-updates/multiverse amd64 Packages [29.8 kB]\n",
            "Get:27 http://archive.ubuntu.com/ubuntu bionic-updates/restricted amd64 Packages [918 kB]\n",
            "Get:28 http://archive.ubuntu.com/ubuntu bionic-updates/universe amd64 Packages [2,268 kB]\n",
            "Get:29 http://archive.ubuntu.com/ubuntu bionic-backports/main amd64 Packages [12.2 kB]\n",
            "Get:30 http://archive.ubuntu.com/ubuntu bionic-backports/universe amd64 Packages [12.9 kB]\n",
            "Fetched 15.6 MB in 5s (3,090 kB/s)\n",
            "Reading package lists... Done\n"
          ]
        }
      ]
    },
    {
      "cell_type": "code",
      "metadata": {
        "id": "MMqDAjVS0KN9"
      },
      "source": [
        "from pyspark.sql import SparkSession\n",
        "spark = SparkSession.builder.appName(\"M16-Amazon-Challenge\").config(\"spark.driver.extraClassPath\",\"/content/postgresql-42.2.16.jar\").getOrCreate()"
      ],
      "execution_count": 2,
      "outputs": []
    },
    {
      "cell_type": "markdown",
      "metadata": {
        "id": "cyBsySGuY-9V"
      },
      "source": [
        "### Load Amazon Data into Spark DataFrame"
      ]
    },
    {
      "cell_type": "code",
      "metadata": {
        "id": "CtCmBhQJY-9Z",
        "colab": {
          "base_uri": "https://localhost:8080/"
        },
        "outputId": "9474bde6-a408-47f1-e83a-a0d99252a465"
      },
      "source": [
        "from pyspark import SparkFiles\n",
        "url = \"https://s3.amazonaws.com/amazon-reviews-pds/tsv/amazon_reviews_us_Shoes_v1_00.tsv.gz\"\n",
        "spark.sparkContext.addFile(url)\n",
        "df = spark.read.option(\"encoding\", \"UTF-8\").csv(SparkFiles.get(\"\"), sep=\"\\t\", header=True, inferSchema=True)\n",
        "df.show()"
      ],
      "execution_count": 3,
      "outputs": [
        {
          "output_type": "stream",
          "name": "stdout",
          "text": [
            "+-----------+-----------+--------------+----------+--------------+--------------------+----------------+-----------+-------------+-----------+----+-----------------+--------------------+--------------------+-----------+\n",
            "|marketplace|customer_id|     review_id|product_id|product_parent|       product_title|product_category|star_rating|helpful_votes|total_votes|vine|verified_purchase|     review_headline|         review_body|review_date|\n",
            "+-----------+-----------+--------------+----------+--------------+--------------------+----------------+-----------+-------------+-----------+----+-----------------+--------------------+--------------------+-----------+\n",
            "|         US|   18069663|R3P2HIOQCIN5ZU|B000XB31C0|     265024781|Minnetonka Men's ...|           Shoes|          1|            0|          0|   N|                Y|                   .|Do not buy: reall...| 2015-08-31|\n",
            "|         US|   16251825|R12VVR0WH5Q24V|B00CFYZH5W|     259035853|Teva Men's Pajaro...|           Shoes|          5|            0|          0|   N|                Y|     super flip flop|provides great cu...| 2015-08-31|\n",
            "|         US|   20381037| RNCCKB6TV5EEF|B00S8JNN3Q|     666066660|Anne Klein Perfec...|           Shoes|          4|            0|          0|   N|                Y| Great clutch purse!|It's perfect if y...| 2015-08-31|\n",
            "|         US|     108364|R2NZXYIVCGB13W|B00XFBPOQG|     448483263|adidas Men's 10K ...|           Shoes|          5|            0|          6|   N|                Y|              Badass|  Getting what u see| 2015-08-31|\n",
            "|         US|   45449350|R2EQ1TG9IT3OEQ|B00SW64Y9W|       7853171|OverBling Sneaker...|           Shoes|          3|            0|          0|   N|                Y|         Three Stars|               small| 2015-08-31|\n",
            "|         US|   19324665|R1WXA9JSC2H1U1|B011F9E6LI|      14311457|MESSI 15.3 FG/AG ...|           Shoes|          5|            1|          1|   N|                Y|          Five Stars|My 13 year old so...| 2015-08-31|\n",
            "|         US|   50073594|R12ENYLFGGNWRV|B00HAUP1OI|     264821602|Hoka One One Men'...|           Shoes|          5|            1|          1|   N|                Y|Finally, some cus...|Ok, I have been s...| 2015-08-31|\n",
            "|         US|   21706057|R2R07E5PNXEUO5|B00L1RKOKW|     767118055|Olukai Nohea Mesh...|           Shoes|          4|            0|          0|   N|                Y|good deal, but ha...|I went a full siz...| 2015-08-31|\n",
            "|         US|   13708216|R27BA52AKWMWN3|B005WA9MSE|     813856438|Carolina Mens 6\" ...|           Shoes|          5|            0|          0|   N|                Y|... would have to...|I would have to s...| 2015-08-31|\n",
            "|         US|   40542649| RLF8DOID2KD5O|B00BEYQI5C|     661491213|Alegria Women's S...|           Shoes|          3|            0|          0|   N|                Y|           Too small|The size is misle...| 2015-08-31|\n",
            "|         US|   13409446|R369CEXHXHC6NQ|B00EYAFTCQ|     332158165|Naturalizer Women...|           Shoes|          5|            0|          0|   N|                Y|          Five Stars|These shoes are v...| 2015-08-31|\n",
            "|         US|    9451727|R171PPIJXFONVI|B00I0QHY32|      49243908|Forever Link Wome...|           Shoes|          5|            0|          0|   N|                Y|          Five Stars|I love these sand...| 2015-08-31|\n",
            "|         US|     193731|R2JDNM8F2P06FU|B010FZZKYA|     161497902|Versace Collectio...|           Shoes|          4|            1|          1|   N|                Y|          Four Stars|Good quality shoe...| 2015-08-31|\n",
            "|         US|   34798634|R2W977FO4M97XT|B00V8B30K2|     759958795|Twisted Girl's Ch...|           Shoes|          5|            0|          1|   N|                Y|Good shoes, comfo...|My daughter reall...| 2015-08-31|\n",
            "|         US|   37235551|R3AM24QPLI28UY|B00LAVB1TC|     910150896|Travel Smart Hand...|           Shoes|          2|            1|          2|   N|                Y|           Two Stars|         It's okay .| 2015-08-31|\n",
            "|         US|   27081399| REDVXSFYVNT5T|B003C1P8B0|     762792587|Saucony Originals...|           Shoes|          5|            0|          0|   N|                Y|    Love these shoes|Love these shoes!...| 2015-08-31|\n",
            "|         US|     120678|R14AIIK7D6ENDZ|B000W3UL7W|     123724495|Dr. Marten's Wome...|           Shoes|          5|            0|          0|   N|                Y|          Five Stars|                Good| 2015-08-31|\n",
            "|         US|   22272389|R3B1NURKMCVAL1|B00LX65PQO|     848850234|Skechers Performa...|           Shoes|          3|            2|          2|   N|                Y|         Three Stars|I like the go wal...| 2015-08-31|\n",
            "|         US|   19584241|R14Q1GZGV10IMX|B00BEE7N3I|     211637196|Hi-Tec Kid's Nepa...|           Shoes|          4|            0|          0|   N|                Y|          Four Stars|Kids love them fo...| 2015-08-31|\n",
            "|         US|   12334573| R9BHBB06QD6TM|B008NCHMBW|     138572112|Foot Sox Original...|           Shoes|          1|            2|          2|   N|                Y|Tissue paper is t...|Tissue paper is t...| 2015-08-31|\n",
            "+-----------+-----------+--------------+----------+--------------+--------------------+----------------+-----------+-------------+-----------+----+-----------------+--------------------+--------------------+-----------+\n",
            "only showing top 20 rows\n",
            "\n"
          ]
        }
      ]
    },
    {
      "cell_type": "markdown",
      "metadata": {
        "id": "2yUSe55VY-9t"
      },
      "source": [
        "### Create DataFrames to match tables"
      ]
    },
    {
      "cell_type": "code",
      "metadata": {
        "id": "C8REmY1aY-9u"
      },
      "source": [
        "# Convert the 'review_date' column to a date datatype with to_date(\"review_date\", 'yyyy-MM-dd').alias(\"review_date\")\n",
        "from pyspark.sql.functions import to_date\n",
        "review_df = df.withColumn(\"review_date\",to_date(\"review_date\",\"yyyy-MM-dd\"))"
      ],
      "execution_count": 4,
      "outputs": []
    },
    {
      "cell_type": "code",
      "metadata": {
        "id": "lzMmkdKmY--D"
      },
      "source": [
        "# Create the vine_table. DataFrame\n",
        "vine_df = review_df.select([\"review_id\", \"star_rating\", \"helpful_votes\", \"total_votes\", \"vine\", \"verified_purchase\"])"
      ],
      "execution_count": 5,
      "outputs": []
    },
    {
      "cell_type": "code",
      "source": [
        "vine_df.show(20)"
      ],
      "metadata": {
        "colab": {
          "base_uri": "https://localhost:8080/"
        },
        "id": "r_k9JOvd9n2k",
        "outputId": "a0e2b071-f802-4c24-d654-dc7c457d7bfd"
      },
      "execution_count": 6,
      "outputs": [
        {
          "output_type": "stream",
          "name": "stdout",
          "text": [
            "+--------------+-----------+-------------+-----------+----+-----------------+\n",
            "|     review_id|star_rating|helpful_votes|total_votes|vine|verified_purchase|\n",
            "+--------------+-----------+-------------+-----------+----+-----------------+\n",
            "|R3P2HIOQCIN5ZU|          1|            0|          0|   N|                Y|\n",
            "|R12VVR0WH5Q24V|          5|            0|          0|   N|                Y|\n",
            "| RNCCKB6TV5EEF|          4|            0|          0|   N|                Y|\n",
            "|R2NZXYIVCGB13W|          5|            0|          6|   N|                Y|\n",
            "|R2EQ1TG9IT3OEQ|          3|            0|          0|   N|                Y|\n",
            "|R1WXA9JSC2H1U1|          5|            1|          1|   N|                Y|\n",
            "|R12ENYLFGGNWRV|          5|            1|          1|   N|                Y|\n",
            "|R2R07E5PNXEUO5|          4|            0|          0|   N|                Y|\n",
            "|R27BA52AKWMWN3|          5|            0|          0|   N|                Y|\n",
            "| RLF8DOID2KD5O|          3|            0|          0|   N|                Y|\n",
            "|R369CEXHXHC6NQ|          5|            0|          0|   N|                Y|\n",
            "|R171PPIJXFONVI|          5|            0|          0|   N|                Y|\n",
            "|R2JDNM8F2P06FU|          4|            1|          1|   N|                Y|\n",
            "|R2W977FO4M97XT|          5|            0|          1|   N|                Y|\n",
            "|R3AM24QPLI28UY|          2|            1|          2|   N|                Y|\n",
            "| REDVXSFYVNT5T|          5|            0|          0|   N|                Y|\n",
            "|R14AIIK7D6ENDZ|          5|            0|          0|   N|                Y|\n",
            "|R3B1NURKMCVAL1|          3|            2|          2|   N|                Y|\n",
            "|R14Q1GZGV10IMX|          4|            0|          0|   N|                Y|\n",
            "| R9BHBB06QD6TM|          1|            2|          2|   N|                Y|\n",
            "+--------------+-----------+-------------+-----------+----+-----------------+\n",
            "only showing top 20 rows\n",
            "\n"
          ]
        }
      ]
    },
    {
      "cell_type": "code",
      "metadata": {
        "id": "Exuo6ebUsCqW"
      },
      "source": [
        "filtered_vine_df = vine_df.filter('total_votes>20')"
      ],
      "execution_count": 7,
      "outputs": []
    },
    {
      "cell_type": "code",
      "source": [
        "filtered_vine_df.show(20)"
      ],
      "metadata": {
        "colab": {
          "base_uri": "https://localhost:8080/"
        },
        "id": "ViXp1UGCP7M5",
        "outputId": "5098f0dc-704b-412c-8e80-6b76bca11d2a"
      },
      "execution_count": 8,
      "outputs": [
        {
          "output_type": "stream",
          "name": "stdout",
          "text": [
            "+--------------+-----------+-------------+-----------+----+-----------------+\n",
            "|     review_id|star_rating|helpful_votes|total_votes|vine|verified_purchase|\n",
            "+--------------+-----------+-------------+-----------+----+-----------------+\n",
            "|R37F42INKX7L9K|          5|           45|         49|   N|                Y|\n",
            "|R2EHKYNEP8WVSR|          5|           25|         25|   N|                Y|\n",
            "| RXOS7BHID0UHL|          5|           16|         27|   N|                N|\n",
            "|R33HHGFPB403GM|          5|           19|         21|   N|                Y|\n",
            "| RY9O9XNLP464N|          2|           19|         22|   N|                Y|\n",
            "|R2VP11C28JAEZF|          5|           30|         30|   N|                Y|\n",
            "|R1TXGR1HA2M3P3|          5|           28|         29|   N|                Y|\n",
            "| R6OD85TMEMHQQ|          5|           28|         28|   N|                Y|\n",
            "|R1G4PAJXP3FTN7|          2|           43|         51|   N|                Y|\n",
            "|R2P2S8UGUMCOLX|          5|           21|         22|   N|                Y|\n",
            "| RBTQKXGJ9RP7C|          1|           33|         33|   N|                Y|\n",
            "|R342L93CXGDZO5|          2|           73|         76|   N|                Y|\n",
            "|R31Z97KFD4HMNF|          3|           23|         26|   N|                Y|\n",
            "|R2NDB7EQLYK87A|          5|           44|         46|   N|                Y|\n",
            "|R1C0W0OSBCVXC2|          1|           45|         46|   N|                Y|\n",
            "|R154Q41ID7FTFC|          5|           24|         26|   N|                Y|\n",
            "|R3GFX9ZNZ0T3TA|          1|           35|         35|   N|                Y|\n",
            "|R2H8MH0N2IZKMY|          5|           22|         23|   N|                Y|\n",
            "| RYSL8MU2858GB|          5|           71|         73|   N|                Y|\n",
            "|R2AA1L5ELMHC99|          3|          156|        159|   N|                Y|\n",
            "+--------------+-----------+-------------+-----------+----+-----------------+\n",
            "only showing top 20 rows\n",
            "\n"
          ]
        }
      ]
    },
    {
      "cell_type": "code",
      "source": [
        "filtered_vine_df = filtered_vine_df.filter(filtered_vine_df['helpful_votes']/filtered_vine_df['total_votes']  >=0.5)"
      ],
      "metadata": {
        "id": "d5ufc38QP--_"
      },
      "execution_count": 10,
      "outputs": []
    },
    {
      "cell_type": "code",
      "source": [
        "filtered_vine_df.show(20)"
      ],
      "metadata": {
        "colab": {
          "base_uri": "https://localhost:8080/"
        },
        "id": "5IiDpE1UP-8Z",
        "outputId": "f40a5662-04d2-4c63-ea7b-f65b80786795"
      },
      "execution_count": 11,
      "outputs": [
        {
          "output_type": "stream",
          "name": "stdout",
          "text": [
            "+--------------+-----------+-------------+-----------+----+-----------------+\n",
            "|     review_id|star_rating|helpful_votes|total_votes|vine|verified_purchase|\n",
            "+--------------+-----------+-------------+-----------+----+-----------------+\n",
            "|R37F42INKX7L9K|          5|           45|         49|   N|                Y|\n",
            "|R2EHKYNEP8WVSR|          5|           25|         25|   N|                Y|\n",
            "| RXOS7BHID0UHL|          5|           16|         27|   N|                N|\n",
            "|R33HHGFPB403GM|          5|           19|         21|   N|                Y|\n",
            "| RY9O9XNLP464N|          2|           19|         22|   N|                Y|\n",
            "|R2VP11C28JAEZF|          5|           30|         30|   N|                Y|\n",
            "|R1TXGR1HA2M3P3|          5|           28|         29|   N|                Y|\n",
            "| R6OD85TMEMHQQ|          5|           28|         28|   N|                Y|\n",
            "|R1G4PAJXP3FTN7|          2|           43|         51|   N|                Y|\n",
            "|R2P2S8UGUMCOLX|          5|           21|         22|   N|                Y|\n",
            "| RBTQKXGJ9RP7C|          1|           33|         33|   N|                Y|\n",
            "|R342L93CXGDZO5|          2|           73|         76|   N|                Y|\n",
            "|R31Z97KFD4HMNF|          3|           23|         26|   N|                Y|\n",
            "|R2NDB7EQLYK87A|          5|           44|         46|   N|                Y|\n",
            "|R1C0W0OSBCVXC2|          1|           45|         46|   N|                Y|\n",
            "|R154Q41ID7FTFC|          5|           24|         26|   N|                Y|\n",
            "|R3GFX9ZNZ0T3TA|          1|           35|         35|   N|                Y|\n",
            "|R2H8MH0N2IZKMY|          5|           22|         23|   N|                Y|\n",
            "| RYSL8MU2858GB|          5|           71|         73|   N|                Y|\n",
            "|R2AA1L5ELMHC99|          3|          156|        159|   N|                Y|\n",
            "+--------------+-----------+-------------+-----------+----+-----------------+\n",
            "only showing top 20 rows\n",
            "\n"
          ]
        }
      ]
    },
    {
      "cell_type": "code",
      "source": [
        "paid_reviews_df = filtered_vine_df.filter(filtered_vine_df['vine'] == 'Y')"
      ],
      "metadata": {
        "id": "rEmYX1xnP-5l"
      },
      "execution_count": 12,
      "outputs": []
    },
    {
      "cell_type": "code",
      "source": [
        "paid_reviews_df.show(20)"
      ],
      "metadata": {
        "colab": {
          "base_uri": "https://localhost:8080/"
        },
        "id": "Se5_6yyjP-2z",
        "outputId": "9e16a10c-38a4-4e45-e7c5-11952b5786bb"
      },
      "execution_count": 13,
      "outputs": [
        {
          "output_type": "stream",
          "name": "stdout",
          "text": [
            "+--------------+-----------+-------------+-----------+----+-----------------+\n",
            "|     review_id|star_rating|helpful_votes|total_votes|vine|verified_purchase|\n",
            "+--------------+-----------+-------------+-----------+----+-----------------+\n",
            "|R2N45ZKRRZS856|          5|           21|         22|   Y|                N|\n",
            "| R5OMLMK13A8NS|          5|           34|         38|   Y|                N|\n",
            "|R2MPEQ4SPTEQNS|          4|          180|        184|   Y|                N|\n",
            "| RIR0D3KJ0CQ31|          4|           21|         21|   Y|                N|\n",
            "|R1SPWJDHUWWC5E|          5|           88|         98|   Y|                N|\n",
            "|R1X6M5XA3FT98W|          5|           24|         26|   Y|                N|\n",
            "|R37VCW6HA0Z72T|          5|           27|         28|   Y|                N|\n",
            "|R2XRYNV2SY3ZKL|          5|           53|         56|   Y|                N|\n",
            "|R1Y93KWKAX1P5N|          2|           26|         31|   Y|                N|\n",
            "|R2QVTDYYLTP8SL|          5|           21|         24|   Y|                N|\n",
            "|R3KOK2SH39BZU1|          3|           94|         96|   Y|                N|\n",
            "|R2VOM73EHLPXJW|          4|           35|         38|   Y|                N|\n",
            "|R1MJ5J272V19O6|          4|           49|         51|   Y|                N|\n",
            "|R1307JMPUEQXOW|          5|           31|         35|   Y|                N|\n",
            "| RXV0SDXE5B15T|          2|           39|         42|   Y|                N|\n",
            "| RBMDYE7LUH9FI|          5|           26|         32|   Y|                N|\n",
            "|R1N4W961QV59BV|          5|           25|         34|   Y|                N|\n",
            "|R11XKHFS4KQS3Z|          4|          205|        211|   Y|                N|\n",
            "|R2AT1A0VUSY955|          5|           22|         24|   Y|                N|\n",
            "| RMFBF4KEBW9RK|          5|           37|         43|   Y|                N|\n",
            "+--------------+-----------+-------------+-----------+----+-----------------+\n",
            "\n"
          ]
        }
      ]
    },
    {
      "cell_type": "code",
      "source": [
        "unpaid_reviews_df = filtered_vine_df.filter(filtered_vine_df['vine'] == 'N')"
      ],
      "metadata": {
        "id": "96SKkcylP-vZ"
      },
      "execution_count": 14,
      "outputs": []
    },
    {
      "cell_type": "code",
      "source": [
        "unpaid_reviews_df.show(20)"
      ],
      "metadata": {
        "colab": {
          "base_uri": "https://localhost:8080/"
        },
        "id": "CYDVlIKPRIpv",
        "outputId": "943fad21-f2b2-48f3-9cf4-15aca346eb98"
      },
      "execution_count": 15,
      "outputs": [
        {
          "output_type": "stream",
          "name": "stdout",
          "text": [
            "+--------------+-----------+-------------+-----------+----+-----------------+\n",
            "|     review_id|star_rating|helpful_votes|total_votes|vine|verified_purchase|\n",
            "+--------------+-----------+-------------+-----------+----+-----------------+\n",
            "|R37F42INKX7L9K|          5|           45|         49|   N|                Y|\n",
            "|R2EHKYNEP8WVSR|          5|           25|         25|   N|                Y|\n",
            "| RXOS7BHID0UHL|          5|           16|         27|   N|                N|\n",
            "|R33HHGFPB403GM|          5|           19|         21|   N|                Y|\n",
            "| RY9O9XNLP464N|          2|           19|         22|   N|                Y|\n",
            "|R2VP11C28JAEZF|          5|           30|         30|   N|                Y|\n",
            "|R1TXGR1HA2M3P3|          5|           28|         29|   N|                Y|\n",
            "| R6OD85TMEMHQQ|          5|           28|         28|   N|                Y|\n",
            "|R1G4PAJXP3FTN7|          2|           43|         51|   N|                Y|\n",
            "|R2P2S8UGUMCOLX|          5|           21|         22|   N|                Y|\n",
            "| RBTQKXGJ9RP7C|          1|           33|         33|   N|                Y|\n",
            "|R342L93CXGDZO5|          2|           73|         76|   N|                Y|\n",
            "|R31Z97KFD4HMNF|          3|           23|         26|   N|                Y|\n",
            "|R2NDB7EQLYK87A|          5|           44|         46|   N|                Y|\n",
            "|R1C0W0OSBCVXC2|          1|           45|         46|   N|                Y|\n",
            "|R154Q41ID7FTFC|          5|           24|         26|   N|                Y|\n",
            "|R3GFX9ZNZ0T3TA|          1|           35|         35|   N|                Y|\n",
            "|R2H8MH0N2IZKMY|          5|           22|         23|   N|                Y|\n",
            "| RYSL8MU2858GB|          5|           71|         73|   N|                Y|\n",
            "|R2AA1L5ELMHC99|          3|          156|        159|   N|                Y|\n",
            "+--------------+-----------+-------------+-----------+----+-----------------+\n",
            "only showing top 20 rows\n",
            "\n"
          ]
        }
      ]
    },
    {
      "cell_type": "code",
      "source": [
        "total_reviews = filtered_vine_df.count()\n",
        "paid_reviews = paid_reviews_df.count()\n",
        "unpaid_reviews = unpaid_reviews_df.count()"
      ],
      "metadata": {
        "id": "Mu64__98RUhY"
      },
      "execution_count": 18,
      "outputs": []
    },
    {
      "cell_type": "code",
      "source": [
        "five_star_paid_reviews = paid_reviews_df.filter(paid_reviews_df['star_rating'] == 5).count()\n",
        "five_star_unpaid_reviews = unpaid_reviews_df.filter(unpaid_reviews_df['star_rating'] == 5).count()"
      ],
      "metadata": {
        "id": "hfVvhwLNRUaF"
      },
      "execution_count": 19,
      "outputs": []
    },
    {
      "cell_type": "code",
      "source": [
        "total_five_star_reviews = five_star_paid_reviews + five_star_unpaid_reviews\n",
        "paid_five_star_percent = five_star_paid_reviews / paid_reviews\n",
        "unpaid_five_star_percent = five_star_unpaid_reviews / unpaid_reviews"
      ],
      "metadata": {
        "id": "8ZXmzRY_RUSb"
      },
      "execution_count": 32,
      "outputs": []
    },
    {
      "cell_type": "code",
      "source": [
        "summary_df = spark.createDataFrame([\n",
        "                            (total_reviews, paid_reviews, unpaid_reviews),\n",
        "], [\"Total Reviews\", \"Paid Reviews\", \"Unpaid Reviews\"])\n",
        "\n",
        "summary_df.show()"
      ],
      "metadata": {
        "colab": {
          "base_uri": "https://localhost:8080/"
        },
        "id": "SaSjfG4nTMXy",
        "outputId": "2d537079-0628-4c5f-bc40-0cd27dc8e166"
      },
      "execution_count": 33,
      "outputs": [
        {
          "output_type": "stream",
          "name": "stdout",
          "text": [
            "+-------------+------------+--------------+\n",
            "|Total Reviews|Paid Reviews|Unpaid Reviews|\n",
            "+-------------+------------+--------------+\n",
            "|        25136|          20|         25116|\n",
            "+-------------+------------+--------------+\n",
            "\n"
          ]
        }
      ]
    },
    {
      "cell_type": "code",
      "source": [
        "summary_df2 = spark.createDataFrame([\n",
        "                            (total_five_star_reviews, five_star_paid_reviews, five_star_unpaid_reviews),\n",
        "], [\"Total 5-Star Reviews\", \"5-Star Paid Reviews\", \"5-Star Unpaid Reviews\"])\n",
        "\n",
        "summary_df2.show()"
      ],
      "metadata": {
        "colab": {
          "base_uri": "https://localhost:8080/"
        },
        "id": "vMGW5KZjTz3z",
        "outputId": "6e5754df-07fa-4692-89d4-e547171b002f"
      },
      "execution_count": 34,
      "outputs": [
        {
          "output_type": "stream",
          "name": "stdout",
          "text": [
            "+--------------------+-------------------+---------------------+\n",
            "|Total 5-Star Reviews|5-Star Paid Reviews|5-Star Unpaid Reviews|\n",
            "+--------------------+-------------------+---------------------+\n",
            "|               13491|                 12|                13479|\n",
            "+--------------------+-------------------+---------------------+\n",
            "\n"
          ]
        }
      ]
    },
    {
      "cell_type": "code",
      "source": [
        "summary_df3 = spark.createDataFrame([\n",
        "                            (paid_five_star_percent, unpaid_five_star_percent),\n",
        "], [\"Paid 5-Star Percent\", \"Unpaid 5-Star Percent\"])\n",
        "\n",
        "summary_df3.show()"
      ],
      "metadata": {
        "colab": {
          "base_uri": "https://localhost:8080/"
        },
        "id": "ZGB1y7JXUnOO",
        "outputId": "30cb138f-9a58-4fe7-889e-6412a546b408"
      },
      "execution_count": 35,
      "outputs": [
        {
          "output_type": "stream",
          "name": "stdout",
          "text": [
            "+-------------------+---------------------+\n",
            "|Paid 5-Star Percent|Unpaid 5-Star Percent|\n",
            "+-------------------+---------------------+\n",
            "|                0.6|   0.5366698518872431|\n",
            "+-------------------+---------------------+\n",
            "\n"
          ]
        }
      ]
    }
  ]
}